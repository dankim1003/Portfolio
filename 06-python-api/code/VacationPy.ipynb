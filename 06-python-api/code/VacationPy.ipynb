{
 "cells": [
  {
   "cell_type": "markdown",
   "metadata": {},
   "source": [
    "# VacationPy\n",
    "----\n",
    "\n",
    "#### Note\n",
    "* Keep an eye on your API usage. Use https://developers.google.com/maps/reporting/gmp-reporting as reference for how to monitor your usage and billing.\n",
    "\n",
    "* Instructions have been included for each segment. You do not have to follow them exactly, but they are included to help you think through the steps."
   ]
  },
  {
   "cell_type": "code",
   "execution_count": 8,
   "metadata": {},
   "outputs": [],
   "source": [
    "# Dependencies and Setup\n",
    "import matplotlib.pyplot as plt\n",
    "import pandas as pd\n",
    "import numpy as np\n",
    "import requests\n",
    "import gmaps\n",
    "import os\n",
    "\n",
    "# Import API key\n",
    "from api_keys import g_key\n",
    "\n",
    "\n"
   ]
  },
  {
   "cell_type": "markdown",
   "metadata": {},
   "source": [
    "### Store Part I results into DataFrame\n",
    "* Load the csv exported in Part I to a DataFrame"
   ]
  },
  {
   "cell_type": "code",
   "execution_count": 9,
   "metadata": {},
   "outputs": [
    {
     "data": {
      "text/html": [
       "<div>\n",
       "<style scoped>\n",
       "    .dataframe tbody tr th:only-of-type {\n",
       "        vertical-align: middle;\n",
       "    }\n",
       "\n",
       "    .dataframe tbody tr th {\n",
       "        vertical-align: top;\n",
       "    }\n",
       "\n",
       "    .dataframe thead th {\n",
       "        text-align: right;\n",
       "    }\n",
       "</style>\n",
       "<table border=\"1\" class=\"dataframe\">\n",
       "  <thead>\n",
       "    <tr style=\"text-align: right;\">\n",
       "      <th></th>\n",
       "      <th>City</th>\n",
       "      <th>Lat</th>\n",
       "      <th>lng</th>\n",
       "      <th>Max Temp</th>\n",
       "      <th>Humidity</th>\n",
       "      <th>Cloudiness</th>\n",
       "      <th>Wind Speed</th>\n",
       "      <th>Country</th>\n",
       "      <th>Date</th>\n",
       "    </tr>\n",
       "  </thead>\n",
       "  <tbody>\n",
       "    <tr>\n",
       "      <th>0</th>\n",
       "      <td>Ostrovnoy</td>\n",
       "      <td>68.05</td>\n",
       "      <td>39.51</td>\n",
       "      <td>29.39</td>\n",
       "      <td>97</td>\n",
       "      <td>98</td>\n",
       "      <td>5.75</td>\n",
       "      <td>RU</td>\n",
       "      <td>1603330459</td>\n",
       "    </tr>\n",
       "    <tr>\n",
       "      <th>1</th>\n",
       "      <td>Mahébourg</td>\n",
       "      <td>-20.41</td>\n",
       "      <td>57.70</td>\n",
       "      <td>73.40</td>\n",
       "      <td>78</td>\n",
       "      <td>40</td>\n",
       "      <td>10.29</td>\n",
       "      <td>MU</td>\n",
       "      <td>1603330460</td>\n",
       "    </tr>\n",
       "    <tr>\n",
       "      <th>2</th>\n",
       "      <td>Qaanaaq</td>\n",
       "      <td>77.48</td>\n",
       "      <td>-69.36</td>\n",
       "      <td>20.17</td>\n",
       "      <td>85</td>\n",
       "      <td>100</td>\n",
       "      <td>6.58</td>\n",
       "      <td>GL</td>\n",
       "      <td>1603330460</td>\n",
       "    </tr>\n",
       "    <tr>\n",
       "      <th>3</th>\n",
       "      <td>Zhuhai</td>\n",
       "      <td>22.28</td>\n",
       "      <td>113.57</td>\n",
       "      <td>73.40</td>\n",
       "      <td>69</td>\n",
       "      <td>20</td>\n",
       "      <td>23.04</td>\n",
       "      <td>CN</td>\n",
       "      <td>1603330461</td>\n",
       "    </tr>\n",
       "    <tr>\n",
       "      <th>4</th>\n",
       "      <td>Cape Town</td>\n",
       "      <td>-33.93</td>\n",
       "      <td>18.42</td>\n",
       "      <td>59.00</td>\n",
       "      <td>87</td>\n",
       "      <td>0</td>\n",
       "      <td>14.99</td>\n",
       "      <td>ZA</td>\n",
       "      <td>1603330461</td>\n",
       "    </tr>\n",
       "  </tbody>\n",
       "</table>\n",
       "</div>"
      ],
      "text/plain": [
       "        City    Lat     lng  Max Temp  Humidity  Cloudiness  Wind Speed  \\\n",
       "0  Ostrovnoy  68.05   39.51     29.39        97          98        5.75   \n",
       "1  Mahébourg -20.41   57.70     73.40        78          40       10.29   \n",
       "2    Qaanaaq  77.48  -69.36     20.17        85         100        6.58   \n",
       "3     Zhuhai  22.28  113.57     73.40        69          20       23.04   \n",
       "4  Cape Town -33.93   18.42     59.00        87           0       14.99   \n",
       "\n",
       "  Country        Date  \n",
       "0      RU  1603330459  \n",
       "1      MU  1603330460  \n",
       "2      GL  1603330460  \n",
       "3      CN  1603330461  \n",
       "4      ZA  1603330461  "
      ]
     },
     "execution_count": 9,
     "metadata": {},
     "output_type": "execute_result"
    }
   ],
   "source": [
    "file = (\"../output_data/describe_data.csv\")\n",
    "file_df = pd.read_csv(file)\n",
    "file_df.head()\n"
   ]
  },
  {
   "cell_type": "markdown",
   "metadata": {},
   "source": [
    "### Humidity Heatmap\n",
    "* Configure gmaps.\n",
    "* Use the Lat and Lng as locations and Humidity as the weight.\n",
    "* Add Heatmap layer to map."
   ]
  },
  {
   "cell_type": "code",
   "execution_count": 10,
   "metadata": {
    "scrolled": true
   },
   "outputs": [
    {
     "data": {
      "application/vnd.jupyter.widget-view+json": {
       "model_id": "d179def5a2fb44e8b252242b6feca7a7",
       "version_major": 2,
       "version_minor": 0
      },
      "text/plain": [
       "Figure(layout=FigureLayout(height='420px'))"
      ]
     },
     "metadata": {},
     "output_type": "display_data"
    }
   ],
   "source": [
    "gmaps.configure(api_key=g_key)\n",
    "hum = file_df[\"Humidity\"].astype(float)\n",
    "hum_max = hum.max()\n",
    "location = file_df[[\"Lat\", \"lng\"]]\n",
    "\n",
    "fig = gmaps.figure(center=(46.0, -5.0), zoom_level=2)\n",
    "\n",
    "heat_layer = gmaps.heatmap_layer(location, weights = hum, dissipating=False, max_intensity=hum_max, point_radius=3)\n",
    "fig.add_layer(heat_layer)\n",
    "fig\n",
    "\n"
   ]
  },
  {
   "cell_type": "markdown",
   "metadata": {},
   "source": [
    "### Create new DataFrame fitting weather criteria\n",
    "* Narrow down the cities to fit weather conditions.\n",
    "* Drop any rows will null values."
   ]
  },
  {
   "cell_type": "code",
   "execution_count": 11,
   "metadata": {},
   "outputs": [
    {
     "data": {
      "text/html": [
       "<div>\n",
       "<style scoped>\n",
       "    .dataframe tbody tr th:only-of-type {\n",
       "        vertical-align: middle;\n",
       "    }\n",
       "\n",
       "    .dataframe tbody tr th {\n",
       "        vertical-align: top;\n",
       "    }\n",
       "\n",
       "    .dataframe thead th {\n",
       "        text-align: right;\n",
       "    }\n",
       "</style>\n",
       "<table border=\"1\" class=\"dataframe\">\n",
       "  <thead>\n",
       "    <tr style=\"text-align: right;\">\n",
       "      <th></th>\n",
       "      <th>City</th>\n",
       "      <th>Lat</th>\n",
       "      <th>lng</th>\n",
       "      <th>Max Temp</th>\n",
       "      <th>Humidity</th>\n",
       "      <th>Cloudiness</th>\n",
       "      <th>Wind Speed</th>\n",
       "      <th>Country</th>\n",
       "      <th>Date</th>\n",
       "    </tr>\n",
       "  </thead>\n",
       "  <tbody>\n",
       "    <tr>\n",
       "      <th>26</th>\n",
       "      <td>Colonelganj</td>\n",
       "      <td>27.13</td>\n",
       "      <td>81.70</td>\n",
       "      <td>74.97</td>\n",
       "      <td>62</td>\n",
       "      <td>0</td>\n",
       "      <td>2.89</td>\n",
       "      <td>IN</td>\n",
       "      <td>1603330470</td>\n",
       "    </tr>\n",
       "    <tr>\n",
       "      <th>93</th>\n",
       "      <td>Antakya</td>\n",
       "      <td>36.21</td>\n",
       "      <td>36.16</td>\n",
       "      <td>73.40</td>\n",
       "      <td>64</td>\n",
       "      <td>0</td>\n",
       "      <td>5.82</td>\n",
       "      <td>TR</td>\n",
       "      <td>1603330547</td>\n",
       "    </tr>\n",
       "    <tr>\n",
       "      <th>152</th>\n",
       "      <td>Sinnamary</td>\n",
       "      <td>5.38</td>\n",
       "      <td>-52.95</td>\n",
       "      <td>79.75</td>\n",
       "      <td>83</td>\n",
       "      <td>0</td>\n",
       "      <td>9.75</td>\n",
       "      <td>GF</td>\n",
       "      <td>1603330460</td>\n",
       "    </tr>\n",
       "    <tr>\n",
       "      <th>157</th>\n",
       "      <td>Charlestown</td>\n",
       "      <td>-32.95</td>\n",
       "      <td>151.67</td>\n",
       "      <td>73.99</td>\n",
       "      <td>69</td>\n",
       "      <td>0</td>\n",
       "      <td>7.61</td>\n",
       "      <td>AU</td>\n",
       "      <td>1603330575</td>\n",
       "    </tr>\n",
       "    <tr>\n",
       "      <th>180</th>\n",
       "      <td>Le Marin</td>\n",
       "      <td>14.47</td>\n",
       "      <td>-60.87</td>\n",
       "      <td>77.00</td>\n",
       "      <td>88</td>\n",
       "      <td>0</td>\n",
       "      <td>2.24</td>\n",
       "      <td>MQ</td>\n",
       "      <td>1603330585</td>\n",
       "    </tr>\n",
       "  </tbody>\n",
       "</table>\n",
       "</div>"
      ],
      "text/plain": [
       "            City    Lat     lng  Max Temp  Humidity  Cloudiness  Wind Speed  \\\n",
       "26   Colonelganj  27.13   81.70     74.97        62           0        2.89   \n",
       "93       Antakya  36.21   36.16     73.40        64           0        5.82   \n",
       "152    Sinnamary   5.38  -52.95     79.75        83           0        9.75   \n",
       "157  Charlestown -32.95  151.67     73.99        69           0        7.61   \n",
       "180     Le Marin  14.47  -60.87     77.00        88           0        2.24   \n",
       "\n",
       "    Country        Date  \n",
       "26       IN  1603330470  \n",
       "93       TR  1603330547  \n",
       "152      GF  1603330460  \n",
       "157      AU  1603330575  \n",
       "180      MQ  1603330585  "
      ]
     },
     "execution_count": 11,
     "metadata": {},
     "output_type": "execute_result"
    }
   ],
   "source": [
    "# A max temperature lower than 80 degrees but higher than 70.\n",
    "# Wind speed less than 10 mph.\n",
    "# Zero cloudiness.\n",
    "# Drop any rows that don't contain all three conditions. You want to be sure the weather is ideal.\n",
    "# Note: Feel free to adjust to your specifications but be sure to limit the number of rows returned by your API \n",
    "# requests to a reasonable number.\n",
    "new_data = file_df.loc[(file_df[\"Wind Speed\"] <= 10) & (file_df[\"Cloudiness\"] ==0) & (file_df[\"Max Temp\"] >= 70)\n",
    "                       & (file_df[\"Max Temp\"] < 80) ]\n",
    "              \n",
    "new_data = new_data.dropna(how='any')\n",
    "\n",
    "new_data.head()\n"
   ]
  },
  {
   "cell_type": "markdown",
   "metadata": {},
   "source": [
    "### Hotel Map\n",
    "* Store into variable named `hotel_df`.\n",
    "* Add a \"Hotel Name\" column to the DataFrame.\n",
    "* Set parameters to search for hotels with 5000 meters.\n",
    "* Hit the Google Places API for each city's coordinates.\n",
    "* Store the first Hotel result into the DataFrame.\n",
    "* Plot markers on top of the heatmap."
   ]
  },
  {
   "cell_type": "code",
   "execution_count": 12,
   "metadata": {},
   "outputs": [
    {
     "data": {
      "text/html": [
       "<div>\n",
       "<style scoped>\n",
       "    .dataframe tbody tr th:only-of-type {\n",
       "        vertical-align: middle;\n",
       "    }\n",
       "\n",
       "    .dataframe tbody tr th {\n",
       "        vertical-align: top;\n",
       "    }\n",
       "\n",
       "    .dataframe thead th {\n",
       "        text-align: right;\n",
       "    }\n",
       "</style>\n",
       "<table border=\"1\" class=\"dataframe\">\n",
       "  <thead>\n",
       "    <tr style=\"text-align: right;\">\n",
       "      <th></th>\n",
       "      <th>City</th>\n",
       "      <th>Country</th>\n",
       "      <th>Lat</th>\n",
       "      <th>lng</th>\n",
       "      <th>Hotel Name</th>\n",
       "    </tr>\n",
       "  </thead>\n",
       "  <tbody>\n",
       "    <tr>\n",
       "      <th>26</th>\n",
       "      <td>Colonelganj</td>\n",
       "      <td>IN</td>\n",
       "      <td>27.13</td>\n",
       "      <td>81.70</td>\n",
       "      <td></td>\n",
       "    </tr>\n",
       "    <tr>\n",
       "      <th>93</th>\n",
       "      <td>Antakya</td>\n",
       "      <td>TR</td>\n",
       "      <td>36.21</td>\n",
       "      <td>36.16</td>\n",
       "      <td></td>\n",
       "    </tr>\n",
       "    <tr>\n",
       "      <th>152</th>\n",
       "      <td>Sinnamary</td>\n",
       "      <td>GF</td>\n",
       "      <td>5.38</td>\n",
       "      <td>-52.95</td>\n",
       "      <td></td>\n",
       "    </tr>\n",
       "    <tr>\n",
       "      <th>157</th>\n",
       "      <td>Charlestown</td>\n",
       "      <td>AU</td>\n",
       "      <td>-32.95</td>\n",
       "      <td>151.67</td>\n",
       "      <td></td>\n",
       "    </tr>\n",
       "    <tr>\n",
       "      <th>180</th>\n",
       "      <td>Le Marin</td>\n",
       "      <td>MQ</td>\n",
       "      <td>14.47</td>\n",
       "      <td>-60.87</td>\n",
       "      <td></td>\n",
       "    </tr>\n",
       "  </tbody>\n",
       "</table>\n",
       "</div>"
      ],
      "text/plain": [
       "            City Country    Lat     lng Hotel Name\n",
       "26   Colonelganj      IN  27.13   81.70           \n",
       "93       Antakya      TR  36.21   36.16           \n",
       "152    Sinnamary      GF   5.38  -52.95           \n",
       "157  Charlestown      AU -32.95  151.67           \n",
       "180     Le Marin      MQ  14.47  -60.87           "
      ]
     },
     "execution_count": 12,
     "metadata": {},
     "output_type": "execute_result"
    }
   ],
   "source": [
    "hotel_df = new_data.loc[:,['City', 'Country', 'Lat', 'lng']]\n",
    "\n",
    "hotel_df['Hotel Name'] = \"\"\n",
    "\n",
    "hotel_df.head()\n",
    "\n"
   ]
  },
  {
   "cell_type": "code",
   "execution_count": 13,
   "metadata": {},
   "outputs": [],
   "source": [
    "base_url = \"https://maps.googleapis.com/maps/api/place/nearbysearch/json\"\n",
    "\n",
    "params = {\"type\" : \"hotel\", \n",
    "         'keyword' : 'hotel',\n",
    "         'radius': 5000,\n",
    "         'key' : g_key}\n"
   ]
  },
  {
   "cell_type": "code",
   "execution_count": 14,
   "metadata": {},
   "outputs": [
    {
     "name": "stdout",
     "output_type": "stream",
     "text": [
      "Retrieving Results for index 26:Colonelganj.\n",
      "Closest hotel in Colonelganj is Anand Hotel.\n",
      "-------------------------------\n",
      "Retrieving Results for index 93:Antakya.\n",
      "Closest hotel in Antakya is Shahut Hotel.\n",
      "-------------------------------\n",
      "Retrieving Results for index 152:Sinnamary.\n",
      "Closest hotel in Sinnamary is L'oiseau de Paradis.\n",
      "-------------------------------\n",
      "Retrieving Results for index 157:Charlestown.\n",
      "Closest hotel in Charlestown is Mercure Charlestown.\n",
      "-------------------------------\n",
      "Retrieving Results for index 180:Le Marin.\n",
      "Closest hotel in Le Marin is Club Med Les Boucaniers - Martinique.\n",
      "-------------------------------\n",
      "Retrieving Results for index 260:Pahrump.\n",
      "Closest hotel in Pahrump is Pahrump Nugget.\n",
      "-------------------------------\n",
      "Retrieving Results for index 278:Cayenne.\n",
      "Closest hotel in Cayenne is Royal Amazonia.\n",
      "-------------------------------\n",
      "Retrieving Results for index 280:Santa Inês.\n",
      "Closest hotel in Santa Inês is Monterrey Hotel.\n",
      "-------------------------------\n",
      "Retrieving Results for index 403:Wawa.\n",
      "Missing filed/result .. skipping.\n",
      "-------------------------------\n",
      "Retrieving Results for index 404:Manama.\n",
      "Closest hotel in Manama is Four Seasons Hotel Bahrain Bay.\n",
      "-------------------------------\n",
      "Retrieving Results for index 448:Doha.\n",
      "Closest hotel in Doha is Al Najada Doha Hotel by Tivoli.\n",
      "-------------------------------\n",
      "Retrieving Results for index 511:Valença do Piauí.\n",
      "Closest hotel in Valença do Piauí is Hotel Shimamoto.\n",
      "-------------------------------\n",
      "Retrieving Results for index 525:Makkah al Mukarramah.\n",
      "Closest hotel in Makkah al Mukarramah is Pullman Zamzam Makkah.\n",
      "-------------------------------\n",
      "End\n"
     ]
    }
   ],
   "source": [
    "for index, row in hotel_df.iterrows():\n",
    "    lat = row[\"Lat\"]\n",
    "    lng = row['lng']\n",
    "    city_name = row['City']\n",
    "    \n",
    "    params[\"location\"] = f\"{lat},{lng}\"\n",
    "    print(f\"Retrieving Results for index {index}:{city_name}.\")\n",
    "    response = requests.get(base_url, params=params).json()\n",
    "    \n",
    "    results = response['results']\n",
    "    \n",
    "    try:\n",
    "        print(f\"Closest hotel in {city_name} is {results[0]['name']}.\")\n",
    "        hotel_df.loc[index, \"Hotel Name\"] = results[0]['name']\n",
    "        \n",
    "    except (KeyError, IndexError):\n",
    "        print(\"Missing filed/result .. skipping.\")\n",
    "        \n",
    "    print(\"-------------------------------\")\n",
    "    \n",
    "print(\"End\")"
   ]
  },
  {
   "cell_type": "code",
   "execution_count": 15,
   "metadata": {},
   "outputs": [],
   "source": [
    "# NOTE: Do not change any of the code in this cell\n",
    "\n",
    "# Using the template add the hotel marks to the heatmap\n",
    "info_box_template = \"\"\"\n",
    "<dl>\n",
    "<dt>Name</dt><dd>{Hotel Name}</dd>\n",
    "<dt>City</dt><dd>{City}</dd>\n",
    "<dt>Country</dt><dd>{Country}</dd>\n",
    "</dl>\n",
    "\"\"\"\n",
    "# Store the DataFrame Row\n",
    "# NOTE: be sure to update with your DataFrame name\n",
    "hotel_info = [info_box_template.format(**row) for index, row in hotel_df.iterrows()]\n",
    "locations = hotel_df[[\"Lat\", \"lng\"]]"
   ]
  },
  {
   "cell_type": "code",
   "execution_count": 16,
   "metadata": {},
   "outputs": [
    {
     "data": {
      "application/vnd.jupyter.widget-view+json": {
       "model_id": "d179def5a2fb44e8b252242b6feca7a7",
       "version_major": 2,
       "version_minor": 0
      },
      "text/plain": [
       "Figure(layout=FigureLayout(height='420px'))"
      ]
     },
     "metadata": {},
     "output_type": "display_data"
    }
   ],
   "source": [
    "markers = gmaps.marker_layer(locations, info_box_content = hotel_info)\n",
    "\n",
    "fig.add_layer(markers)\n",
    "\n",
    "fig\n"
   ]
  },
  {
   "cell_type": "code",
   "execution_count": null,
   "metadata": {},
   "outputs": [],
   "source": [
    "\n"
   ]
  },
  {
   "cell_type": "code",
   "execution_count": null,
   "metadata": {},
   "outputs": [],
   "source": []
  }
 ],
 "metadata": {
  "kernelspec": {
   "display_name": "Python [conda env:root] *",
   "language": "python",
   "name": "conda-root-py"
  },
  "language_info": {
   "codemirror_mode": {
    "name": "ipython",
    "version": 3
   },
   "file_extension": ".py",
   "mimetype": "text/x-python",
   "name": "python",
   "nbconvert_exporter": "python",
   "pygments_lexer": "ipython3",
   "version": "3.8.3"
  },
  "latex_envs": {
   "LaTeX_envs_menu_present": true,
   "autoclose": false,
   "autocomplete": true,
   "bibliofile": "biblio.bib",
   "cite_by": "apalike",
   "current_citInitial": 1,
   "eqLabelWithNumbers": true,
   "eqNumInitial": 1,
   "hotkeys": {
    "equation": "Ctrl-E",
    "itemize": "Ctrl-I"
   },
   "labels_anchors": false,
   "latex_user_defs": false,
   "report_style_numbering": false,
   "user_envs_cfg": false
  }
 },
 "nbformat": 4,
 "nbformat_minor": 4
}
