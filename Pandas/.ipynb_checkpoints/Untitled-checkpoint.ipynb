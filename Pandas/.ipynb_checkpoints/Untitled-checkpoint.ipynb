{
 "cells": [
  {
   "cell_type": "code",
   "execution_count": 1,
   "metadata": {},
   "outputs": [],
   "source": [
    "import os\n",
    "import csv"
   ]
  },
  {
   "cell_type": "code",
   "execution_count": 2,
   "metadata": {},
   "outputs": [
    {
     "name": "stdout",
     "output_type": "stream",
     "text": [
      "What show or movie are you looking for?House of Cards\n"
     ]
    }
   ],
   "source": [
    "#Prompt user for vidow lookup\n",
    "video = input(\"What show or movie are you looking for?\")"
   ]
  },
  {
   "cell_type": "code",
   "execution_count": 3,
   "metadata": {},
   "outputs": [
    {
     "name": "stdout",
     "output_type": "stream",
     "text": [
      "Resources\\netflix_ratings.csv\n",
      "House of Cards\n"
     ]
    }
   ],
   "source": [
    "#Set path for file\n",
    "csvpath = os.path.join(\"Resources\", \"netflix_ratings.csv\")\n",
    "print(csvpath)\n",
    "\n",
    "#Set variable to check if we found the vidoe\n",
    "print(video)\n",
    "found = False"
   ]
  },
  {
   "cell_type": "code",
   "execution_count": 11,
   "metadata": {},
   "outputs": [
    {
     "name": "stdout",
     "output_type": "stream",
     "text": [
      "House of Cards is rated of 91and released in 2016\n"
     ]
    }
   ],
   "source": [
    "rate = 0\n",
    "year = 0\n",
    "\n",
    "with open(csvpath, encoding =\"utf-8\") as csvfile:\n",
    "    csvreader = csv.reader(csvfile, delimiter=\",\")\n",
    "    \n",
    "    for row in csvreader:\n",
    "        if row[0] == video:          \n",
    "            year = row[4]\n",
    "            rate = row[5]\n",
    "            \n",
    "            #Set variable to confirm we have found the video\n",
    "            found = True      \n",
    "    #If the video is not found, alert the user\n",
    "    if found == False:\n",
    "        print(\"We don't seem to have what you are looking for.\")\n",
    "        \n",
    "    print(video + \" is rated of \" + rate + \"and released in \" + year )   "
   ]
  },
  {
   "cell_type": "code",
   "execution_count": null,
   "metadata": {},
   "outputs": [],
   "source": []
  }
 ],
 "metadata": {
  "kernelspec": {
   "display_name": "Python 3",
   "language": "python",
   "name": "python3"
  },
  "language_info": {
   "codemirror_mode": {
    "name": "ipython",
    "version": 3
   },
   "file_extension": ".py",
   "mimetype": "text/x-python",
   "name": "python",
   "nbconvert_exporter": "python",
   "pygments_lexer": "ipython3",
   "version": "3.8.3"
  }
 },
 "nbformat": 4,
 "nbformat_minor": 4
}
