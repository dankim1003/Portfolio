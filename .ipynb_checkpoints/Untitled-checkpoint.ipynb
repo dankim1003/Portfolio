{
 "cells": [
  {
   "cell_type": "code",
   "execution_count": 11,
   "metadata": {},
   "outputs": [],
   "source": [
    "import csv\n",
    "import os\n"
   ]
  },
  {
   "cell_type": "code",
   "execution_count": 12,
   "metadata": {},
   "outputs": [],
   "source": [
    "count_month = 1\n",
    "total_p_1 = 0\n",
    "great_increase = 0\n",
    "great_decrease = 0\n",
    "chg_avg = []\n",
    "prev_revenue = 0"
   ]
  },
  {
   "cell_type": "code",
   "execution_count": 13,
   "metadata": {},
   "outputs": [],
   "source": [
    "#CSV path\n",
    "csvpath = os.path.join(\"Resources\", \"budget_data.csv\")"
   ]
  },
  {
   "cell_type": "code",
   "execution_count": 14,
   "metadata": {},
   "outputs": [
    {
     "name": "stdout",
     "output_type": "stream",
     "text": [
      "Financial Analysis\n",
      "-------------------------------\n",
      "Total number of months :  86\n",
      "Total Profit/Losses is :  $38382578\n",
      "Revenue average change is : $ -2315.12\n",
      "Greatest increase in Profits : Feb-2012 $1926159\n",
      "Greatest increase in Losses : Sep-2013 $-2196167\n"
     ]
    }
   ],
   "source": [
    "with open(csvpath) as csvfile:\n",
    "    csvreader = csv.reader(csvfile, delimiter = \",\")\n",
    "    \n",
    "    #skip header\n",
    "    next(csvreader)\n",
    "    first_row = next(csvreader)\n",
    "    prev_revenue = int(first_row[1])\n",
    "    #value skipped first row too first answer got changed\n",
    "    total_p_1 = prev_revenue\n",
    "    \n",
    "    for row in csvreader:\n",
    "        count_month = count_month + 1\n",
    "        total_p_1 = total_p_1 + int(row[1])\n",
    "        \n",
    "        #revenue change save\n",
    "        revenue_chg = int(row[1]) - prev_revenue\n",
    "        prev_revenue = int(row[1])\n",
    "        chg_avg.append(revenue_chg)\n",
    "        if int(revenue_chg) > great_increase:\n",
    "            great_increase = revenue_chg\n",
    "            #save data\n",
    "            increase_date = row[0]\n",
    "        if int(revenue_chg) < great_decrease:\n",
    "            great_decrease = revenue_chg\n",
    "            decrease_date = row[0]\n",
    "            \n",
    "    rev_avg = sum(chg_avg) / len(chg_avg)\n",
    "    \n",
    "    print(\"Financial Analysis\")\n",
    "    print(\"-------------------------------\")\n",
    "    print(\"Total number of months : \", count_month)\n",
    "    print(\"Total Profit/Losses is : \", \"${}\".format(total_p_1))\n",
    "    print(\"Revenue average change is : $\", round(rev_avg,2))\n",
    "    print(\"Greatest increase in Profits :\", increase_date, \"${}\".format(great_increase))\n",
    "    print(\"Greatest increase in Losses :\", decrease_date, \"${}\".format(great_decrease))\n",
    "        "
   ]
  },
  {
   "cell_type": "code",
   "execution_count": null,
   "metadata": {},
   "outputs": [],
   "source": []
  }
 ],
 "metadata": {
  "kernelspec": {
   "display_name": "Python 3",
   "language": "python",
   "name": "python3"
  },
  "language_info": {
   "codemirror_mode": {
    "name": "ipython",
    "version": 3
   },
   "file_extension": ".py",
   "mimetype": "text/x-python",
   "name": "python",
   "nbconvert_exporter": "python",
   "pygments_lexer": "ipython3",
   "version": "3.8.3"
  }
 },
 "nbformat": 4,
 "nbformat_minor": 4
}
