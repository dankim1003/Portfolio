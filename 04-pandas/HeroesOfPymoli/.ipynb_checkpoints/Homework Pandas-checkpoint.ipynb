{
 "cells": [
  {
   "cell_type": "code",
   "execution_count": 1,
   "metadata": {},
   "outputs": [],
   "source": [
    "import pandas as pd\n"
   ]
  },
  {
   "cell_type": "code",
   "execution_count": 2,
   "metadata": {},
   "outputs": [],
   "source": [
    "#file path\n",
    "file = \"Resources/heroes_data.csv\""
   ]
  },
  {
   "cell_type": "code",
   "execution_count": 3,
   "metadata": {},
   "outputs": [
    {
     "data": {
      "text/html": [
       "<div>\n",
       "<style scoped>\n",
       "    .dataframe tbody tr th:only-of-type {\n",
       "        vertical-align: middle;\n",
       "    }\n",
       "\n",
       "    .dataframe tbody tr th {\n",
       "        vertical-align: top;\n",
       "    }\n",
       "\n",
       "    .dataframe thead th {\n",
       "        text-align: right;\n",
       "    }\n",
       "</style>\n",
       "<table border=\"1\" class=\"dataframe\">\n",
       "  <thead>\n",
       "    <tr style=\"text-align: right;\">\n",
       "      <th></th>\n",
       "      <th>Purchase ID</th>\n",
       "      <th>SN</th>\n",
       "      <th>Age</th>\n",
       "      <th>Gender</th>\n",
       "      <th>Item ID</th>\n",
       "      <th>Item Name</th>\n",
       "      <th>Price</th>\n",
       "    </tr>\n",
       "  </thead>\n",
       "  <tbody>\n",
       "    <tr>\n",
       "      <th>0</th>\n",
       "      <td>0</td>\n",
       "      <td>Lisim78</td>\n",
       "      <td>20</td>\n",
       "      <td>Male</td>\n",
       "      <td>108</td>\n",
       "      <td>Extraction, Quickblade Of Trembling Hands</td>\n",
       "      <td>3.53</td>\n",
       "    </tr>\n",
       "    <tr>\n",
       "      <th>1</th>\n",
       "      <td>1</td>\n",
       "      <td>Lisovynya38</td>\n",
       "      <td>40</td>\n",
       "      <td>Male</td>\n",
       "      <td>143</td>\n",
       "      <td>Frenzied Scimitar</td>\n",
       "      <td>1.56</td>\n",
       "    </tr>\n",
       "    <tr>\n",
       "      <th>2</th>\n",
       "      <td>2</td>\n",
       "      <td>Ithergue48</td>\n",
       "      <td>24</td>\n",
       "      <td>Male</td>\n",
       "      <td>92</td>\n",
       "      <td>Final Critic</td>\n",
       "      <td>4.88</td>\n",
       "    </tr>\n",
       "    <tr>\n",
       "      <th>3</th>\n",
       "      <td>3</td>\n",
       "      <td>Chamassasya86</td>\n",
       "      <td>24</td>\n",
       "      <td>Male</td>\n",
       "      <td>100</td>\n",
       "      <td>Blindscythe</td>\n",
       "      <td>3.27</td>\n",
       "    </tr>\n",
       "    <tr>\n",
       "      <th>4</th>\n",
       "      <td>4</td>\n",
       "      <td>Iskosia90</td>\n",
       "      <td>23</td>\n",
       "      <td>Male</td>\n",
       "      <td>131</td>\n",
       "      <td>Fury</td>\n",
       "      <td>1.44</td>\n",
       "    </tr>\n",
       "  </tbody>\n",
       "</table>\n",
       "</div>"
      ],
      "text/plain": [
       "   Purchase ID             SN  Age Gender  Item ID  \\\n",
       "0            0        Lisim78   20   Male      108   \n",
       "1            1    Lisovynya38   40   Male      143   \n",
       "2            2     Ithergue48   24   Male       92   \n",
       "3            3  Chamassasya86   24   Male      100   \n",
       "4            4      Iskosia90   23   Male      131   \n",
       "\n",
       "                                   Item Name  Price  \n",
       "0  Extraction, Quickblade Of Trembling Hands   3.53  \n",
       "1                          Frenzied Scimitar   1.56  \n",
       "2                               Final Critic   4.88  \n",
       "3                                Blindscythe   3.27  \n",
       "4                                       Fury   1.44  "
      ]
     },
     "execution_count": 3,
     "metadata": {},
     "output_type": "execute_result"
    }
   ],
   "source": [
    "#file read\n",
    "file_df = pd.read_csv(file)\n",
    "file_df.head()"
   ]
  },
  {
   "cell_type": "code",
   "execution_count": 4,
   "metadata": {},
   "outputs": [
    {
     "data": {
      "text/plain": [
       "576"
      ]
     },
     "execution_count": 4,
     "metadata": {},
     "output_type": "execute_result"
    }
   ],
   "source": [
    "#Total number of player\n",
    "#group by SN and count total group(total number of player)\n",
    "sn_group = file_df.groupby(\"SN\")\n",
    "\n",
    "sn_count = sn_group[\"SN\"].count()\n",
    "player_count = sn_count.count()\n",
    "player_count"
   ]
  },
  {
   "cell_type": "code",
   "execution_count": 5,
   "metadata": {},
   "outputs": [
    {
     "data": {
      "text/plain": [
       "179"
      ]
     },
     "execution_count": 5,
     "metadata": {},
     "output_type": "execute_result"
    }
   ],
   "source": [
    "#Number of Unique Items\n",
    "file_df['Item Name'].nunique()\n",
    "\n"
   ]
  },
  {
   "cell_type": "code",
   "execution_count": 6,
   "metadata": {},
   "outputs": [
    {
     "data": {
      "text/plain": [
       "3.050987179487176"
      ]
     },
     "execution_count": 6,
     "metadata": {},
     "output_type": "execute_result"
    }
   ],
   "source": [
    "#Average Purchase Price\n",
    "\n",
    "file_df[\"Price\"].mean()\n"
   ]
  },
  {
   "cell_type": "code",
   "execution_count": 7,
   "metadata": {},
   "outputs": [
    {
     "data": {
      "text/plain": [
       "145"
      ]
     },
     "execution_count": 7,
     "metadata": {},
     "output_type": "execute_result"
    }
   ],
   "source": [
    "#Total Number of Purchases\n",
    "purchase_group = file_df.groupby(\"Price\")\n",
    "count_purchase = purchase_group[\"Price\"].count()\n",
    "count_purchase.count()\n"
   ]
  },
  {
   "cell_type": "code",
   "execution_count": 8,
   "metadata": {},
   "outputs": [
    {
     "data": {
      "text/plain": [
       "2379.77"
      ]
     },
     "execution_count": 8,
     "metadata": {},
     "output_type": "execute_result"
    }
   ],
   "source": [
    "#Total Revenue\n",
    "file_df[\"Price\"].sum()"
   ]
  },
  {
   "cell_type": "code",
   "execution_count": 9,
   "metadata": {},
   "outputs": [
    {
     "name": "stdout",
     "output_type": "stream",
     "text": [
      "Percentage of male is   0.8358974358974359\n",
      "Count of Male Players is   652\n"
     ]
    }
   ],
   "source": [
    "gender_info = file_df[\"Gender\"].value_counts()\n",
    "gender_info\n",
    "\n",
    "\n",
    "#Percentage and Count of Male Players\n",
    "percent_male = gender_info[\"Male\"] / gender_info.sum()\n",
    "print(\"Percentage of male is  \", percent_male)\n",
    "print(\"Count of Male Players is  \", gender_info[\"Male\"])"
   ]
  },
  {
   "cell_type": "code",
   "execution_count": 10,
   "metadata": {},
   "outputs": [
    {
     "name": "stdout",
     "output_type": "stream",
     "text": [
      "Percentage of female is   0.14487179487179488\n",
      "Count of Female Players is   113\n"
     ]
    }
   ],
   "source": [
    "#Percentage and Count of Female Players\n",
    "percent_female = gender_info[\"Female\"] / gender_info.sum()\n",
    "print(\"Percentage of female is  \", percent_female)\n",
    "print(\"Count of Female Players is  \", gender_info[\"Female\"])"
   ]
  },
  {
   "cell_type": "code",
   "execution_count": 11,
   "metadata": {},
   "outputs": [
    {
     "name": "stdout",
     "output_type": "stream",
     "text": [
      "Percentage of Other / Non-Disclosed is   0.14487179487179488\n",
      "Count of Other / Non-Disclosed is   15\n"
     ]
    }
   ],
   "source": [
    "percent_other = gender_info[\"Other / Non-Disclosed\"] / gender_info.sum()\n",
    "print(\"Percentage of Other / Non-Disclosed is  \", percent_female)\n",
    "print(\"Count of Other / Non-Disclosed is  \", gender_info[\"Other / Non-Disclosed\"])"
   ]
  },
  {
   "cell_type": "code",
   "execution_count": 12,
   "metadata": {},
   "outputs": [
    {
     "data": {
      "text/plain": [
       "50.19"
      ]
     },
     "execution_count": 12,
     "metadata": {},
     "output_type": "execute_result"
    }
   ],
   "source": [
    "#The below each broken by gender\n",
    "#gender_group = file_df.groupby([\"Gender\",\"Price\"])\n",
    "\n",
    "#gender_count = gender_group.sum()\n",
    "#gender_count\n",
    "\n",
    "female_info = file_df.loc[file_df[\"Gender\"] == \"Female\", :]\n",
    "male_info = file_df.loc[file_df[\"Gender\"] == \"Male\", :]\n",
    "other_info = file_df.loc[file_df[\"Gender\"] == \"Other / Non-Disclosed\", :]\n",
    "\n",
    "#Purchase Count\n",
    "female_info[\"Price\"].count()\n",
    "male_info[\"Price\"].count()\n",
    "other_info[\"Price\"].count()\n",
    "\n",
    "#Average Purchase Price\n",
    "female_info[\"Price\"].mean()\n",
    "male_info[\"Price\"].mean()\n",
    "other_info[\"Price\"].mean()\n",
    "\n",
    "#Total Purchase Value\n",
    "\n",
    "female_info[\"Price\"].sum()\n",
    "male_info[\"Price\"].sum()\n",
    "other_info[\"Price\"].sum()\n",
    "\n",
    "#Average Purchase Total per Person by Gender\n"
   ]
  },
  {
   "cell_type": "code",
   "execution_count": 13,
   "metadata": {},
   "outputs": [
    {
     "data": {
      "text/plain": [
       "21.529999999999998"
      ]
     },
     "execution_count": 13,
     "metadata": {},
     "output_type": "execute_result"
    }
   ],
   "source": [
    "#The below each broken into bins of 4 years (i.e. <10, 10-14, 15-19, etc.)\n",
    "#find max of Age column and set bins start from 0\n",
    "\n",
    "file_df[\"Age\"].max()\n",
    "bins = [0,10,15,20,25,30,35,40,45]\n",
    "group_names = [\"0 to 10\",\"10 to 14\", \"15 to 20\", \"21 to 24\", \"25 to 29\", \"30 to 34\", \"35 to 40\", \"41 to 45\"]\n",
    "file_df[\"Age Summary\"] = pd.cut(file_df[\"Age\"], bins, labels=group_names, include_lowest=True)\n",
    "age_group = file_df.groupby(\"Age Summary\")\n",
    "\n",
    "\n",
    "\n",
    "\n",
    "\n",
    "#Purchase Count\n",
    "age_group.count()\n",
    "\n",
    "#or??\n",
    "group1 = age_group.get_group(('0 to 10'))\n",
    "group1_count = len(group1['SN'].unique())\n",
    "group1_count\n",
    "\n",
    "group2 = age_group.get_group(('10 to 14'))\n",
    "group2_count = len(group2['SN'].unique())\n",
    "group2_count\n",
    "\n",
    "group3 = age_group.get_group(('15 to 20'))\n",
    "group3_count = len(group3['SN'].unique())\n",
    "group3_count\n",
    "\n",
    "group4 = age_group.get_group(('21 to 24'))\n",
    "group4_count = len(group4['SN'].unique())\n",
    "group4_count\n",
    "\n",
    "group5 = age_group.get_group(('25 to 29'))\n",
    "group5_count = len(group5['SN'].unique())\n",
    "group5_count\n",
    "\n",
    "group6 = age_group.get_group(('30 to 34'))\n",
    "group6_count = len(group6['SN'].unique())\n",
    "group6_count\n",
    "\n",
    "group7 = age_group.get_group(('35 to 40'))\n",
    "group7_count = len(group7['SN'].unique())\n",
    "group7_count\n",
    "\n",
    "group8 = age_group.get_group(('41 to 45'))\n",
    "group8_count = len(group8['SN'].unique())\n",
    "group8_count\n",
    "\n",
    "#Average Purchase Price\n",
    "\n",
    "age_group['Price'].mean()\n",
    "\n",
    "group1 = age_group.get_group(('0 to 10'))\n",
    "group1_mean = group1['Price'].mean()\n",
    "group1_mean\n",
    "\n",
    "group2 = age_group.get_group(('10 to 14'))\n",
    "group2_mean = group2['Price'].mean()\n",
    "group2_mean\n",
    "\n",
    "group3 = age_group.get_group(('15 to 20'))\n",
    "group3_mean = group3['Price'].mean()\n",
    "group3_mean\n",
    "\n",
    "group4 = age_group.get_group(('21 to 24'))\n",
    "group4_mean = group4['Price'].mean()\n",
    "group4_mean\n",
    "\n",
    "group5 = age_group.get_group(('25 to 29'))\n",
    "group5_mean = group5['Price'].mean()\n",
    "group5_mean\n",
    "\n",
    "group6 = age_group.get_group(('30 to 34'))\n",
    "group6_mean = group6['Price'].mean()\n",
    "group6_mean\n",
    "\n",
    "group7 = age_group.get_group(('35 to 40'))\n",
    "group7_mean = group7['Price'].mean()\n",
    "group7_mean\n",
    "\n",
    "group8 = age_group.get_group(('41 to 45'))\n",
    "group8_mean = group8['Price'].mean()\n",
    "group8_mean\n",
    "\n",
    "#Total Purchase Value\n",
    "\n",
    "age_group[\"Price\"].sum()\n",
    "\n",
    "#Average Purchase Total per Person by Age Group\n",
    "\n",
    "group1 = age_group.get_group(('0 to 10'))\n",
    "group1_sum = group1['Price'].sum()\n",
    "group1_sum\n",
    "\n",
    "group2 = age_group.get_group(('10 to 14'))\n",
    "group2_sum = group2['Price'].sum()\n",
    "group2_sum\n",
    "\n",
    "group3 = age_group.get_group(('15 to 20'))\n",
    "group3_sum = group3['Price'].sum()\n",
    "group3_sum\n",
    "\n",
    "group4 = age_group.get_group(('21 to 24'))\n",
    "group4_sum = group4['Price'].sum()\n",
    "group4_sum\n",
    "\n",
    "group5 = age_group.get_group(('25 to 29'))\n",
    "group5_sum = group5['Price'].sum()\n",
    "group5_sum\n",
    "\n",
    "group6 = age_group.get_group(('30 to 34'))\n",
    "group6_sum = group6['Price'].sum()\n",
    "group6_sum\n",
    "\n",
    "group7 = age_group.get_group(('35 to 40'))\n",
    "group7_sum = group7['Price'].sum()\n",
    "group7_sum\n",
    "\n",
    "group8 = age_group.get_group(('41 to 45'))\n",
    "group8_sum = group8['Price'].sum()\n",
    "group8_sum"
   ]
  },
  {
   "cell_type": "code",
   "execution_count": 14,
   "metadata": {},
   "outputs": [
    {
     "data": {
      "text/html": [
       "<div>\n",
       "<style scoped>\n",
       "    .dataframe tbody tr th:only-of-type {\n",
       "        vertical-align: middle;\n",
       "    }\n",
       "\n",
       "    .dataframe tbody tr th {\n",
       "        vertical-align: top;\n",
       "    }\n",
       "\n",
       "    .dataframe thead th {\n",
       "        text-align: right;\n",
       "    }\n",
       "</style>\n",
       "<table border=\"1\" class=\"dataframe\">\n",
       "  <thead>\n",
       "    <tr style=\"text-align: right;\">\n",
       "      <th></th>\n",
       "      <th>Purchase Count</th>\n",
       "      <th>Average Purchase Price</th>\n",
       "      <th>Total Purchase Value</th>\n",
       "    </tr>\n",
       "    <tr>\n",
       "      <th>SN</th>\n",
       "      <th></th>\n",
       "      <th></th>\n",
       "      <th></th>\n",
       "    </tr>\n",
       "  </thead>\n",
       "  <tbody>\n",
       "    <tr>\n",
       "      <th>[Lisosia93]</th>\n",
       "      <td>5</td>\n",
       "      <td>3.792000</td>\n",
       "      <td>18.96</td>\n",
       "    </tr>\n",
       "    <tr>\n",
       "      <th>[Idastidru52]</th>\n",
       "      <td>4</td>\n",
       "      <td>3.862500</td>\n",
       "      <td>15.45</td>\n",
       "    </tr>\n",
       "    <tr>\n",
       "      <th>[Chamjask73]</th>\n",
       "      <td>3</td>\n",
       "      <td>4.610000</td>\n",
       "      <td>13.83</td>\n",
       "    </tr>\n",
       "    <tr>\n",
       "      <th>[Iral74]</th>\n",
       "      <td>4</td>\n",
       "      <td>3.405000</td>\n",
       "      <td>13.62</td>\n",
       "    </tr>\n",
       "    <tr>\n",
       "      <th>[Iskadarya95]</th>\n",
       "      <td>3</td>\n",
       "      <td>4.366667</td>\n",
       "      <td>13.10</td>\n",
       "    </tr>\n",
       "  </tbody>\n",
       "</table>\n",
       "</div>"
      ],
      "text/plain": [
       "               Purchase Count  Average Purchase Price  Total Purchase Value\n",
       "SN                                                                         \n",
       "[Lisosia93]                 5                3.792000                 18.96\n",
       "[Idastidru52]               4                3.862500                 15.45\n",
       "[Chamjask73]                3                4.610000                 13.83\n",
       "[Iral74]                    4                3.405000                 13.62\n",
       "[Iskadarya95]               3                4.366667                 13.10"
      ]
     },
     "execution_count": 14,
     "metadata": {},
     "output_type": "execute_result"
    }
   ],
   "source": [
    "#Identify the the top 5 spenders in the game by total purchase value, then list (in a table):\n",
    "name_player = sn_group['SN'].unique()\n",
    "price_count = sn_group['Price'].count()\n",
    "avg_price = sn_group['Price'].mean()\n",
    "total_price = sn_group['Price'].sum()\n",
    "\n",
    "#SN\n",
    "#Purchase Count\n",
    "#Average Purchase Price\n",
    "#Total Purchase Value\n",
    "\n",
    "top_spender = {\"SN\":name_player, \"Purchase Count\":price_count,\"Average Purchase Price\":avg_price,\n",
    "              \"Total Purchase Value\":total_price}\n",
    "top_spender_df = pd.DataFrame(top_spender)\n",
    "top_spender_df = top_spender_df.set_index('SN')\n",
    "top_spender_df = top_spender_df.sort_values(\"Total Purchase Value\", ascending=False)\n",
    "top_spender_df = top_spender_df[['Purchase Count', 'Average Purchase Price', 'Total Purchase Value']]\n",
    "\n",
    "top_spender_df.iloc[:5]\n",
    "\n"
   ]
  },
  {
   "cell_type": "code",
   "execution_count": 15,
   "metadata": {},
   "outputs": [
    {
     "data": {
      "text/html": [
       "<div>\n",
       "<style scoped>\n",
       "    .dataframe tbody tr th:only-of-type {\n",
       "        vertical-align: middle;\n",
       "    }\n",
       "\n",
       "    .dataframe tbody tr th {\n",
       "        vertical-align: top;\n",
       "    }\n",
       "\n",
       "    .dataframe thead th {\n",
       "        text-align: right;\n",
       "    }\n",
       "</style>\n",
       "<table border=\"1\" class=\"dataframe\">\n",
       "  <thead>\n",
       "    <tr style=\"text-align: right;\">\n",
       "      <th></th>\n",
       "      <th>Item Name</th>\n",
       "      <th>Purchase Count</th>\n",
       "      <th>Item Price</th>\n",
       "      <th>Total Purchase Value</th>\n",
       "    </tr>\n",
       "    <tr>\n",
       "      <th>Item ID</th>\n",
       "      <th></th>\n",
       "      <th></th>\n",
       "      <th></th>\n",
       "      <th></th>\n",
       "    </tr>\n",
       "  </thead>\n",
       "  <tbody>\n",
       "    <tr>\n",
       "      <th>[92]</th>\n",
       "      <td>[Final Critic]</td>\n",
       "      <td>13</td>\n",
       "      <td>[4.88, 4.19]</td>\n",
       "      <td>59.99</td>\n",
       "    </tr>\n",
       "    <tr>\n",
       "      <th>[178]</th>\n",
       "      <td>[Oathbreaker, Last Hope of the Breaking Storm]</td>\n",
       "      <td>12</td>\n",
       "      <td>[4.23]</td>\n",
       "      <td>50.76</td>\n",
       "    </tr>\n",
       "    <tr>\n",
       "      <th>[145]</th>\n",
       "      <td>[Fiery Glass Crusader]</td>\n",
       "      <td>9</td>\n",
       "      <td>[4.58]</td>\n",
       "      <td>41.22</td>\n",
       "    </tr>\n",
       "    <tr>\n",
       "      <th>[132]</th>\n",
       "      <td>[Persuasion]</td>\n",
       "      <td>9</td>\n",
       "      <td>[3.19, 3.33]</td>\n",
       "      <td>28.99</td>\n",
       "    </tr>\n",
       "    <tr>\n",
       "      <th>[108]</th>\n",
       "      <td>[Extraction, Quickblade Of Trembling Hands]</td>\n",
       "      <td>9</td>\n",
       "      <td>[3.53]</td>\n",
       "      <td>31.77</td>\n",
       "    </tr>\n",
       "  </tbody>\n",
       "</table>\n",
       "</div>"
      ],
      "text/plain": [
       "                                              Item Name  Purchase Count  \\\n",
       "Item ID                                                                   \n",
       "[92]                                     [Final Critic]              13   \n",
       "[178]    [Oathbreaker, Last Hope of the Breaking Storm]              12   \n",
       "[145]                            [Fiery Glass Crusader]               9   \n",
       "[132]                                      [Persuasion]               9   \n",
       "[108]       [Extraction, Quickblade Of Trembling Hands]               9   \n",
       "\n",
       "           Item Price  Total Purchase Value  \n",
       "Item ID                                      \n",
       "[92]     [4.88, 4.19]                 59.99  \n",
       "[178]          [4.23]                 50.76  \n",
       "[145]          [4.58]                 41.22  \n",
       "[132]    [3.19, 3.33]                 28.99  \n",
       "[108]          [3.53]                 31.77  "
      ]
     },
     "execution_count": 15,
     "metadata": {},
     "output_type": "execute_result"
    }
   ],
   "source": [
    "#Identify the 5 most popular items by purchase count, then list (in a table):\n",
    "#Item ID\n",
    "item_group = file_df.groupby(file_df['Item ID'])\n",
    "item_id_unique = item_group['Item ID'].unique()\n",
    "\n",
    "#Item Name\n",
    "item_unique = item_group['Item Name'].unique()\n",
    "\n",
    "#Purchase Count\n",
    "item_count = item_group['Price'].count()\n",
    "\n",
    "#Item Price\n",
    "item_price = item_group['Price'].unique()\n",
    "\n",
    "#Total Purchase Value\n",
    "item_total_price = item_group['Price'].sum()\n",
    "\n",
    "\n",
    "popular_item = {\"Item ID\":item_id_unique, \"Item Name\":item_unique, \"Purchase Count\":item_count, \n",
    "                \"Item Price\":item_price, \"Total Purchase Value\":item_total_price}\n",
    "popular_item_df = pd.DataFrame(popular_item)\n",
    "popular_item_df = popular_item_df.set_index('Item ID')\n",
    "popular_item_df = popular_item_df.sort_values(\"Purchase Count\", ascending=False)\n",
    "popular_item_df = popular_item_df[[\"Item Name\", \"Purchase Count\",'Item Price', \"Total Purchase Value\"]]\n",
    "\n",
    "popular_item_df.iloc[:5]"
   ]
  },
  {
   "cell_type": "code",
   "execution_count": 16,
   "metadata": {},
   "outputs": [
    {
     "data": {
      "text/html": [
       "<div>\n",
       "<style scoped>\n",
       "    .dataframe tbody tr th:only-of-type {\n",
       "        vertical-align: middle;\n",
       "    }\n",
       "\n",
       "    .dataframe tbody tr th {\n",
       "        vertical-align: top;\n",
       "    }\n",
       "\n",
       "    .dataframe thead th {\n",
       "        text-align: right;\n",
       "    }\n",
       "</style>\n",
       "<table border=\"1\" class=\"dataframe\">\n",
       "  <thead>\n",
       "    <tr style=\"text-align: right;\">\n",
       "      <th></th>\n",
       "      <th>Item Name</th>\n",
       "      <th>Purchase Count</th>\n",
       "      <th>Item Price</th>\n",
       "      <th>Total Purchase Value</th>\n",
       "    </tr>\n",
       "    <tr>\n",
       "      <th>Item ID</th>\n",
       "      <th></th>\n",
       "      <th></th>\n",
       "      <th></th>\n",
       "      <th></th>\n",
       "    </tr>\n",
       "  </thead>\n",
       "  <tbody>\n",
       "    <tr>\n",
       "      <th>[92]</th>\n",
       "      <td>[Final Critic]</td>\n",
       "      <td>13</td>\n",
       "      <td>[4.88, 4.19]</td>\n",
       "      <td>59.99</td>\n",
       "    </tr>\n",
       "    <tr>\n",
       "      <th>[178]</th>\n",
       "      <td>[Oathbreaker, Last Hope of the Breaking Storm]</td>\n",
       "      <td>12</td>\n",
       "      <td>[4.23]</td>\n",
       "      <td>50.76</td>\n",
       "    </tr>\n",
       "    <tr>\n",
       "      <th>[82]</th>\n",
       "      <td>[Nirvana]</td>\n",
       "      <td>9</td>\n",
       "      <td>[4.9]</td>\n",
       "      <td>44.10</td>\n",
       "    </tr>\n",
       "    <tr>\n",
       "      <th>[145]</th>\n",
       "      <td>[Fiery Glass Crusader]</td>\n",
       "      <td>9</td>\n",
       "      <td>[4.58]</td>\n",
       "      <td>41.22</td>\n",
       "    </tr>\n",
       "    <tr>\n",
       "      <th>[103]</th>\n",
       "      <td>[Singed Scalpel]</td>\n",
       "      <td>8</td>\n",
       "      <td>[4.35]</td>\n",
       "      <td>34.80</td>\n",
       "    </tr>\n",
       "  </tbody>\n",
       "</table>\n",
       "</div>"
      ],
      "text/plain": [
       "                                              Item Name  Purchase Count  \\\n",
       "Item ID                                                                   \n",
       "[92]                                     [Final Critic]              13   \n",
       "[178]    [Oathbreaker, Last Hope of the Breaking Storm]              12   \n",
       "[82]                                          [Nirvana]               9   \n",
       "[145]                            [Fiery Glass Crusader]               9   \n",
       "[103]                                  [Singed Scalpel]               8   \n",
       "\n",
       "           Item Price  Total Purchase Value  \n",
       "Item ID                                      \n",
       "[92]     [4.88, 4.19]                 59.99  \n",
       "[178]          [4.23]                 50.76  \n",
       "[82]            [4.9]                 44.10  \n",
       "[145]          [4.58]                 41.22  \n",
       "[103]          [4.35]                 34.80  "
      ]
     },
     "execution_count": 16,
     "metadata": {},
     "output_type": "execute_result"
    }
   ],
   "source": [
    "#Identify the 5 most profitable items by total purchase value, then list (in a table):\n",
    "\n",
    "#Item ID\n",
    "#Item Name\n",
    "#Purchase Count\n",
    "#Item Price\n",
    "#Total Purchase Value\n",
    "\n",
    "top_profit = popular_item_df.sort_values('Total Purchase Value', ascending=False)\n",
    "top_profit.iloc[:5]"
   ]
  },
  {
   "cell_type": "code",
   "execution_count": null,
   "metadata": {},
   "outputs": [],
   "source": []
  }
 ],
 "metadata": {
  "kernelspec": {
   "display_name": "Python [conda env:root] *",
   "language": "python",
   "name": "conda-root-py"
  },
  "language_info": {
   "codemirror_mode": {
    "name": "ipython",
    "version": 3
   },
   "file_extension": ".py",
   "mimetype": "text/x-python",
   "name": "python",
   "nbconvert_exporter": "python",
   "pygments_lexer": "ipython3",
   "version": "3.8.3"
  }
 },
 "nbformat": 4,
 "nbformat_minor": 4
}
