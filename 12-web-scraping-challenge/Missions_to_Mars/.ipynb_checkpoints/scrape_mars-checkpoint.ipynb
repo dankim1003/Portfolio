{
 "cells": [
  {
   "cell_type": "code",
   "execution_count": 4,
   "metadata": {},
   "outputs": [],
   "source": [
    "from splinter import Browser\n",
    "from bs4 import BeautifulSoup\n",
    "from webdriver_manager.chrome import ChromeDriverManager\n",
    "from flask import Flask, render_template\n",
    "import pymongo"
   ]
  },
  {
   "cell_type": "code",
   "execution_count": 3,
   "metadata": {},
   "outputs": [],
   "source": [
    "app = Flask(__name__)"
   ]
  },
  {
   "cell_type": "code",
   "execution_count": 5,
   "metadata": {},
   "outputs": [],
   "source": [
    "conn = \"mongodb://localhost:27017\""
   ]
  },
  {
   "cell_type": "code",
   "execution_count": 7,
   "metadata": {},
   "outputs": [],
   "source": [
    "client = pymongo.MongoClient(conn)"
   ]
  },
  {
   "cell_type": "code",
   "execution_count": 8,
   "metadata": {},
   "outputs": [],
   "source": [
    "db = client.mars"
   ]
  },
  {
   "cell_type": "code",
   "execution_count": 14,
   "metadata": {},
   "outputs": [],
   "source": [
    "def init_browser():\n",
    "    # Setting up windows browser with chromedriver\n",
    "    executable_path = {'executable_path': 'chromedriver.exe'}\n",
    "    browser = Browser('chrome', **executable_path, headless=False)\n",
    "    return browser"
   ]
  },
  {
   "cell_type": "code",
   "execution_count": 17,
   "metadata": {},
   "outputs": [],
   "source": [
    "def scrape():\n",
    "    browser = init_browser()\n",
    "    \n",
    "    tijme.sleep(1)\n",
    "    \n",
    "    # Scrape page into Soup\n",
    "    html = browser.html\n",
    "    response = requests.get(url)\n",
    "    soup = bs(response.text, 'html.parser')\n",
    "    \n",
    "    #URL Scrape\n",
    "    url = 'https://mars.nasa.gov/news/?page=0&per_page=40&order=publish_date+desc%2Ccreated_at+desc&search=&category=19%2C165%2C184%2C204&blank_scope=Latest'\n",
    "    \n",
    "    \n",
    "    #title\n",
    "    news_title = soup.title.text\n",
    "    #paragraph text\n",
    "    news_p = soup.find_all('p')\n",
    "    news_p_text = []\n",
    "    for paragraph in news_p:\n",
    "            news_p_text.append(paragraph.text)\n",
    "\n",
    "    #Space Image Save\n",
    "    featured_image_url = 'https://www.jpl.nasa.gov/spaceimages/images/largesize/PIA24098_hires.jpg'\n",
    "    \n",
    "    \n",
    "    url_new = 'https://space-facts.com/mars/'\n",
    "    response_new = requests.get(url_new)\n",
    "    soup_new = BeautifulSoup(response_new.text, 'html.parser')\n",
    "    \n",
    "    #Mars Fact Table Save\n",
    "    mars_fact_table = soup_new.find_all('tr')\n",
    "    mars_fact_data = []\n",
    "    for tr in mars_fact_table:\n",
    "        mars_fact_data.append(tr.text)\n",
    "        \n",
    "    mars_fact_df = pd.DataFrame(mars_fact_data)\n",
    "    \n",
    "    mars_table = mars_fact_df[0].str.split(\":\", n=1, expand = True)\n",
    "    \n",
    "    mars_table = mars_table.rename(columns={ 0 : \"Description\", 1 : \"Data\"})\n",
    "    \n",
    "    hemisphere_image_urls = [\n",
    "    {\"title\": \"Valles Marineris Hemisphere\", \"img_url\": \"https://astropedia.astrogeology.usgs.gov/download/Mars/Viking/valles_marineris_enhanced.tif\"},\n",
    "    {\"title\": \"Cerberus Hemisphere\", \"img_url\": \"https://astropedia.astrogeology.usgs.gov/download/Mars/Viking/cerberus_enhanced.tif\"},\n",
    "    {\"title\": \"Schiaparelli Hemisphere\", \"img_url\": \"https://astropedia.astrogeology.usgs.gov/download/Mars/Viking/schiaparelli_enhanced.tif\"},\n",
    "    {\"title\": \"Syrtis Major Hemisphere\", \"img_url\": \"https://astropedia.astrogeology.usgs.gov/download/Mars/Viking/syrtis_major_enhanced.tif\"},\n",
    "    ]\n",
    "\n",
    "    mars_info = { \"mars_news_title\" : news_title,\n",
    "                 \"mars_news_paragraph\" : news_p_text,\n",
    "                 \"featured_mars_image\" : featured_image_url,\n",
    "                 \"mars_facts\" : mars_table,\n",
    "                 \"mars_hemisphere\" : hemisphere_image_urls }\n",
    "    \n",
    "    browser.quit()\n",
    "    \n",
    "    return mars_info\n"
   ]
  },
  {
   "cell_type": "code",
   "execution_count": null,
   "metadata": {},
   "outputs": [],
   "source": []
  }
 ],
 "metadata": {
  "kernelspec": {
   "display_name": "Python [conda env:root] *",
   "language": "python",
   "name": "conda-root-py"
  },
  "language_info": {
   "codemirror_mode": {
    "name": "ipython",
    "version": 3
   },
   "file_extension": ".py",
   "mimetype": "text/x-python",
   "name": "python",
   "nbconvert_exporter": "python",
   "pygments_lexer": "ipython3",
   "version": "3.8.3"
  }
 },
 "nbformat": 4,
 "nbformat_minor": 4
}
