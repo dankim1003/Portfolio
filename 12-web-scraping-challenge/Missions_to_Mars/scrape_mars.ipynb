{
 "cells": [
  {
   "cell_type": "code",
   "execution_count": 1,
   "metadata": {},
   "outputs": [],
   "source": [
    "from splinter import Browser\n",
    "from bs4 import BeautifulSoup\n",
    "from webdriver_manager.chrome import ChromeDriverManager"
   ]
  },
  {
   "cell_type": "code",
   "execution_count": 2,
   "metadata": {},
   "outputs": [],
   "source": [
    "def init_browser():\n",
    "    # Setting up windows browser with chromedriver\n",
    "    executable_path = {'executable_path': 'chromedriver.exe'}\n",
    "    browser = Browser('chrome', **executable_path, headless=False)\n",
    "    return browser"
   ]
  },
  {
   "cell_type": "code",
   "execution_count": 3,
   "metadata": {},
   "outputs": [],
   "source": [
    "def scrape():\n",
    "    browser = init_browser()\n",
    "    \n",
    "    time.sleep(1)\n",
    "    \n",
    "    # Scrape page into Soup\n",
    "    html = browser.html\n",
    "    response = requests.get(url)\n",
    "    soup = bs(response.text, 'html.parser')\n",
    "    \n",
    "    #URL Scrape\n",
    "    url = 'https://mars.nasa.gov/news/?page=0&per_page=40&order=publish_date+desc%2Ccreated_at+desc&search=&category=19%2C165%2C184%2C204&blank_scope=Latest'\n",
    "    \n",
    "    \n",
    "    #title\n",
    "    news_title = soup.title.text\n",
    "    #paragraph text\n",
    "    news_p = soup.find_all('p')\n",
    "    news_p_text = []\n",
    "    for paragraph in news_p:\n",
    "            news_p_text.append(paragraph.text)\n",
    "\n",
    "    #Space Image Save\n",
    "    featured_image_url = 'https://www.jpl.nasa.gov/spaceimages/images/largesize/PIA24098_hires.jpg'\n",
    "    \n",
    "    \n",
    "    url_new = 'https://space-facts.com/mars/'\n",
    "    response_new = requests.get(url_new)\n",
    "    soup_new = BeautifulSoup(response_new.text, 'html.parser')\n",
    "    \n",
    "    #Mars Fact Table Save\n",
    "    mars_fact_table = soup_new.find_all('tr')\n",
    "    mars_fact_data = []\n",
    "    for tr in mars_fact_table:\n",
    "        mars_fact_data.append(tr.text)\n",
    "        \n",
    "    mars_fact_df = pd.DataFrame(mars_fact_data)\n",
    "    \n",
    "    mars_table = mars_fact_df[0].str.split(\":\", n=1, expand = True)\n",
    "    \n",
    "    mars_table = mars_table.rename(columns={ 0 : \"Description\", 1 : \"Data\"})\n",
    "    \n",
    "    hemisphere_image_urls = [\n",
    "    {\"title\": \"Valles Marineris Hemisphere\", \"img_url\": \"https://astropedia.astrogeology.usgs.gov/download/Mars/Viking/valles_marineris_enhanced.tif\"},\n",
    "    {\"title\": \"Cerberus Hemisphere\", \"img_url\": \"https://astropedia.astrogeology.usgs.gov/download/Mars/Viking/cerberus_enhanced.tif\"},\n",
    "    {\"title\": \"Schiaparelli Hemisphere\", \"img_url\": \"https://astropedia.astrogeology.usgs.gov/download/Mars/Viking/schiaparelli_enhanced.tif\"},\n",
    "    {\"title\": \"Syrtis Major Hemisphere\", \"img_url\": \"https://astropedia.astrogeology.usgs.gov/download/Mars/Viking/syrtis_major_enhanced.tif\"},\n",
    "    ]\n",
    "\n",
    "    mars_info = { \"mars_news_title\" : news_title,\n",
    "                 \"mars_news_paragraph\" : news_p_text,\n",
    "                 \"featured_mars_image\" : featured_image_url,\n",
    "                 \"mars_facts\" : mars_table,\n",
    "                 \"mars_hemisphere\" : hemisphere_image_urls }\n",
    "    \n",
    "    browser.quit()\n",
    "    \n",
    "    return mars_info\n"
   ]
  },
  {
   "cell_type": "code",
   "execution_count": 5,
   "metadata": {},
   "outputs": [
    {
     "ename": "NameError",
     "evalue": "name 'mars_table' is not defined",
     "output_type": "error",
     "traceback": [
      "\u001b[1;31m---------------------------------------------------------------------------\u001b[0m",
      "\u001b[1;31mNameError\u001b[0m                                 Traceback (most recent call last)",
      "\u001b[1;32m<ipython-input-5-184c34fba6f9>\u001b[0m in \u001b[0;36m<module>\u001b[1;34m\u001b[0m\n\u001b[1;32m----> 1\u001b[1;33m \u001b[0mmars_table\u001b[0m\u001b[1;33m\u001b[0m\u001b[1;33m\u001b[0m\u001b[0m\n\u001b[0m",
      "\u001b[1;31mNameError\u001b[0m: name 'mars_table' is not defined"
     ]
    }
   ],
   "source": [
    "mars_table"
   ]
  },
  {
   "cell_type": "code",
   "execution_count": null,
   "metadata": {},
   "outputs": [],
   "source": []
  }
 ],
 "metadata": {
  "kernelspec": {
   "display_name": "Python [conda env:root] *",
   "language": "python",
   "name": "conda-root-py"
  },
  "language_info": {
   "codemirror_mode": {
    "name": "ipython",
    "version": 3
   },
   "file_extension": ".py",
   "mimetype": "text/x-python",
   "name": "python",
   "nbconvert_exporter": "python",
   "pygments_lexer": "ipython3",
   "version": "3.8.3"
  }
 },
 "nbformat": 4,
 "nbformat_minor": 4
}
